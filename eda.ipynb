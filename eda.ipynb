{
 "cells": [
  {
   "cell_type": "code",
   "execution_count": 2,
   "metadata": {
    "collapsed": true
   },
   "outputs": [],
   "source": [
    "import json\n",
    "import pandas as pd"
   ]
  },
  {
   "cell_type": "code",
   "execution_count": 3,
   "metadata": {
    "collapsed": false
   },
   "outputs": [],
   "source": [
    "def load_samples(path):\n",
    "    with open(path, encoding='utf-8') as f:\n",
    "        for line in f:\n",
    "            yield json.loads(line)\n",
    "\n",
    "\n",
    "def load_passages(path):\n",
    "    print('Loading passages from {}...'.format(path))\n",
    "\n",
    "    samples = []\n",
    "\n",
    "    for sample in load_samples(path):\n",
    "        passages = []\n",
    "        selected = []\n",
    "        s = {}\n",
    "        for passage in sample['passages']:\n",
    "            passages.append(passage['passage_text'].lower())\n",
    "            selected.append(passage['is_selected'])\n",
    "        s['query'] = sample['query'].lower()\n",
    "        s['selected'] = selected\n",
    "        s['passages'] = passages\n",
    "        samples.append(s)\n",
    "\n",
    "    print('Loaded {} samples.'.format(len(samples)))\n",
    "\n",
    "    return samples"
   ]
  },
  {
   "cell_type": "code",
   "execution_count": 20,
   "metadata": {
    "collapsed": false
   },
   "outputs": [
    {
     "name": "stdout",
     "output_type": "stream",
     "text": [
      "Loading passages from datasets/msmarco/train_v1.1.json...\n",
      "Loaded 82326 samples.\n"
     ]
    }
   ],
   "source": [
    "train = load_passages('datasets/msmarco/train_v1.1.json')"
   ]
  },
  {
   "cell_type": "code",
   "execution_count": 21,
   "metadata": {
    "collapsed": true
   },
   "outputs": [],
   "source": [
    "df = pd.DataFrame(train)"
   ]
  },
  {
   "cell_type": "code",
   "execution_count": 22,
   "metadata": {
    "collapsed": false
   },
   "outputs": [
    {
     "data": {
      "text/html": [
       "<div>\n",
       "<table border=\"1\" class=\"dataframe\">\n",
       "  <thead>\n",
       "    <tr style=\"text-align: right;\">\n",
       "      <th></th>\n",
       "      <th>passages</th>\n",
       "      <th>query</th>\n",
       "      <th>selected</th>\n",
       "    </tr>\n",
       "  </thead>\n",
       "  <tbody>\n",
       "    <tr>\n",
       "      <th>0</th>\n",
       "      <td>[since 2007, the rba's outstanding reputation ...</td>\n",
       "      <td>what is rba</td>\n",
       "      <td>[0, 0, 0, 0, 0, 1, 0, 0, 0, 0]</td>\n",
       "    </tr>\n",
       "    <tr>\n",
       "      <th>1</th>\n",
       "      <td>[in his younger years, ronald reagan was a mem...</td>\n",
       "      <td>was ronald reagan a democrat</td>\n",
       "      <td>[0, 1, 0, 0, 0, 0, 0]</td>\n",
       "    </tr>\n",
       "    <tr>\n",
       "      <th>2</th>\n",
       "      <td>[sydney, new south wales, australia is located...</td>\n",
       "      <td>how long do you need for sydney and surroundin...</td>\n",
       "      <td>[0, 0, 0, 0, 1, 0, 0, 0, 0, 0]</td>\n",
       "    </tr>\n",
       "    <tr>\n",
       "      <th>3</th>\n",
       "      <td>[in regards to tile installation costs, consum...</td>\n",
       "      <td>price to install tile in shower</td>\n",
       "      <td>[0, 0, 0, 0, 0, 0, 0, 0, 1]</td>\n",
       "    </tr>\n",
       "    <tr>\n",
       "      <th>4</th>\n",
       "      <td>[conclusions: in adult body ct, dose to an org...</td>\n",
       "      <td>why conversion observed in body</td>\n",
       "      <td>[0, 0, 1, 0, 0, 0, 0, 0]</td>\n",
       "    </tr>\n",
       "  </tbody>\n",
       "</table>\n",
       "</div>"
      ],
      "text/plain": [
       "                                            passages  \\\n",
       "0  [since 2007, the rba's outstanding reputation ...   \n",
       "1  [in his younger years, ronald reagan was a mem...   \n",
       "2  [sydney, new south wales, australia is located...   \n",
       "3  [in regards to tile installation costs, consum...   \n",
       "4  [conclusions: in adult body ct, dose to an org...   \n",
       "\n",
       "                                               query  \\\n",
       "0                                        what is rba   \n",
       "1                       was ronald reagan a democrat   \n",
       "2  how long do you need for sydney and surroundin...   \n",
       "3                    price to install tile in shower   \n",
       "4                    why conversion observed in body   \n",
       "\n",
       "                         selected  \n",
       "0  [0, 0, 0, 0, 0, 1, 0, 0, 0, 0]  \n",
       "1           [0, 1, 0, 0, 0, 0, 0]  \n",
       "2  [0, 0, 0, 0, 1, 0, 0, 0, 0, 0]  \n",
       "3     [0, 0, 0, 0, 0, 0, 0, 0, 1]  \n",
       "4        [0, 0, 1, 0, 0, 0, 0, 0]  "
      ]
     },
     "execution_count": 22,
     "metadata": {},
     "output_type": "execute_result"
    }
   ],
   "source": [
    "df.head()"
   ]
  },
  {
   "cell_type": "code",
   "execution_count": 23,
   "metadata": {
    "collapsed": false
   },
   "outputs": [
    {
     "name": "stdout",
     "output_type": "stream",
     "text": [
      "Average Number of Passages: 8.21360202123266\n"
     ]
    }
   ],
   "source": [
    "print('Average Number of Passages:', sum([len(t['passages']) for t in train]) / len(train))    "
   ]
  },
  {
   "cell_type": "code",
   "execution_count": 24,
   "metadata": {
    "collapsed": false
   },
   "outputs": [
    {
     "name": "stdout",
     "output_type": "stream",
     "text": [
      "Average Passage Length: 421.67736282392747\n"
     ]
    }
   ],
   "source": [
    "print('Average Passage Length:', sum([len(t['passages'][i]) for t in train for i in range(len(t['passages']))]) / sum([len(t['passages']) for t in train]))"
   ]
  },
  {
   "cell_type": "code",
   "execution_count": 26,
   "metadata": {
    "collapsed": false
   },
   "outputs": [
    {
     "name": "stdout",
     "output_type": "stream",
     "text": [
      "Average Number of Selected Passages per Sample: 1.0752739110366105\n"
     ]
    }
   ],
   "source": [
    "print('Average Number of Selected Passages per Sample:', sum([sum(t['selected']) for t in train]) / len(train))"
   ]
  },
  {
   "cell_type": "code",
   "execution_count": null,
   "metadata": {
    "collapsed": true
   },
   "outputs": [],
   "source": []
  }
 ],
 "metadata": {
  "anaconda-cloud": {},
  "kernelspec": {
   "display_name": "Python [default]",
   "language": "python",
   "name": "python3"
  },
  "language_info": {
   "codemirror_mode": {
    "name": "ipython",
    "version": 3
   },
   "file_extension": ".py",
   "mimetype": "text/x-python",
   "name": "python",
   "nbconvert_exporter": "python",
   "pygments_lexer": "ipython3",
   "version": "3.5.2"
  }
 },
 "nbformat": 4,
 "nbformat_minor": 1
}
