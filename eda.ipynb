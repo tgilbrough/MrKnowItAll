{
 "cells": [
  {
   "cell_type": "code",
   "execution_count": 20,
   "metadata": {
    "collapsed": true
   },
   "outputs": [],
   "source": [
    "import json\n",
    "import pandas as pd\n",
    "import numpy as np\n",
    "import matplotlib.pyplot as plt"
   ]
  },
  {
   "cell_type": "code",
   "execution_count": 15,
   "metadata": {
    "collapsed": false
   },
   "outputs": [],
   "source": [
    "def load_samples(path):\n",
    "    with open(path, encoding='utf-8') as f:\n",
    "        for line in f:\n",
    "            yield json.loads(line)\n",
    "\n",
    "\n",
    "def load_passages(path):\n",
    "    print('Loading passages from {}...'.format(path))\n",
    "\n",
    "    samples = []\n",
    "\n",
    "    for sample in load_samples(path):\n",
    "        passages = []\n",
    "        selected = []\n",
    "        s = {}\n",
    "        for passage in sample['passages']:\n",
    "            passages.append(passage['passage_text'].lower())\n",
    "            selected.append(passage['is_selected'])\n",
    "        s['query'] = sample['query'].lower()\n",
    "        s['selected'] = selected\n",
    "        s['passages'] = passages\n",
    "        s['answer'] = ''\n",
    "        s['query_type'] = sample['query_type']\n",
    "        if len(sample['answers']) > 0:\n",
    "            s['answer'] = sample['answers'][0].lower()\n",
    "        \n",
    "        samples.append(s)\n",
    "\n",
    "    print('Loaded {} samples.'.format(len(samples)))\n",
    "\n",
    "    return samples"
   ]
  },
  {
   "cell_type": "code",
   "execution_count": 16,
   "metadata": {
    "collapsed": false
   },
   "outputs": [
    {
     "name": "stdout",
     "output_type": "stream",
     "text": [
      "Loading passages from datasets/msmarco/train_v1.1.json...\n",
      "Loaded 82326 samples.\n"
     ]
    }
   ],
   "source": [
    "train = load_passages('datasets/msmarco/train_v1.1.json')"
   ]
  },
  {
   "cell_type": "code",
   "execution_count": 17,
   "metadata": {
    "collapsed": true
   },
   "outputs": [],
   "source": [
    "df = pd.DataFrame(train)"
   ]
  },
  {
   "cell_type": "code",
   "execution_count": 18,
   "metadata": {
    "collapsed": false
   },
   "outputs": [
    {
     "data": {
      "text/html": [
       "<div>\n",
       "<table border=\"1\" class=\"dataframe\">\n",
       "  <thead>\n",
       "    <tr style=\"text-align: right;\">\n",
       "      <th></th>\n",
       "      <th>answer</th>\n",
       "      <th>passages</th>\n",
       "      <th>query</th>\n",
       "      <th>query_type</th>\n",
       "      <th>selected</th>\n",
       "    </tr>\n",
       "  </thead>\n",
       "  <tbody>\n",
       "    <tr>\n",
       "      <th>0</th>\n",
       "      <td>results-based accountability is a disciplined ...</td>\n",
       "      <td>[since 2007, the rba's outstanding reputation ...</td>\n",
       "      <td>what is rba</td>\n",
       "      <td>description</td>\n",
       "      <td>[0, 0, 0, 0, 0, 1, 0, 0, 0, 0]</td>\n",
       "    </tr>\n",
       "    <tr>\n",
       "      <th>1</th>\n",
       "      <td>yes</td>\n",
       "      <td>[in his younger years, ronald reagan was a mem...</td>\n",
       "      <td>was ronald reagan a democrat</td>\n",
       "      <td>description</td>\n",
       "      <td>[0, 1, 0, 0, 0, 0, 0]</td>\n",
       "    </tr>\n",
       "    <tr>\n",
       "      <th>2</th>\n",
       "      <td>20-25 minutes</td>\n",
       "      <td>[sydney, new south wales, australia is located...</td>\n",
       "      <td>how long do you need for sydney and surroundin...</td>\n",
       "      <td>numeric</td>\n",
       "      <td>[0, 0, 0, 0, 1, 0, 0, 0, 0, 0]</td>\n",
       "    </tr>\n",
       "    <tr>\n",
       "      <th>3</th>\n",
       "      <td>$11 to $22 per square foot</td>\n",
       "      <td>[in regards to tile installation costs, consum...</td>\n",
       "      <td>price to install tile in shower</td>\n",
       "      <td>numeric</td>\n",
       "      <td>[0, 0, 0, 0, 0, 0, 0, 0, 1]</td>\n",
       "    </tr>\n",
       "    <tr>\n",
       "      <th>4</th>\n",
       "      <td>due to symptoms in the body</td>\n",
       "      <td>[conclusions: in adult body ct, dose to an org...</td>\n",
       "      <td>why conversion observed in body</td>\n",
       "      <td>description</td>\n",
       "      <td>[0, 0, 1, 0, 0, 0, 0, 0]</td>\n",
       "    </tr>\n",
       "  </tbody>\n",
       "</table>\n",
       "</div>"
      ],
      "text/plain": [
       "                                              answer  \\\n",
       "0  results-based accountability is a disciplined ...   \n",
       "1                                                yes   \n",
       "2                                      20-25 minutes   \n",
       "3                         $11 to $22 per square foot   \n",
       "4                        due to symptoms in the body   \n",
       "\n",
       "                                            passages  \\\n",
       "0  [since 2007, the rba's outstanding reputation ...   \n",
       "1  [in his younger years, ronald reagan was a mem...   \n",
       "2  [sydney, new south wales, australia is located...   \n",
       "3  [in regards to tile installation costs, consum...   \n",
       "4  [conclusions: in adult body ct, dose to an org...   \n",
       "\n",
       "                                               query   query_type  \\\n",
       "0                                        what is rba  description   \n",
       "1                       was ronald reagan a democrat  description   \n",
       "2  how long do you need for sydney and surroundin...      numeric   \n",
       "3                    price to install tile in shower      numeric   \n",
       "4                    why conversion observed in body  description   \n",
       "\n",
       "                         selected  \n",
       "0  [0, 0, 0, 0, 0, 1, 0, 0, 0, 0]  \n",
       "1           [0, 1, 0, 0, 0, 0, 0]  \n",
       "2  [0, 0, 0, 0, 1, 0, 0, 0, 0, 0]  \n",
       "3     [0, 0, 0, 0, 0, 0, 0, 0, 1]  \n",
       "4        [0, 0, 1, 0, 0, 0, 0, 0]  "
      ]
     },
     "execution_count": 18,
     "metadata": {},
     "output_type": "execute_result"
    }
   ],
   "source": [
    "df.head()"
   ]
  },
  {
   "cell_type": "code",
   "execution_count": 6,
   "metadata": {
    "collapsed": false
   },
   "outputs": [
    {
     "name": "stdout",
     "output_type": "stream",
     "text": [
      "Average Number of Passages: 8.21360202123266\n"
     ]
    }
   ],
   "source": [
    "print('Average Number of Passages:', sum([len(t['passages']) for t in train]) / len(train))    "
   ]
  },
  {
   "cell_type": "code",
   "execution_count": 7,
   "metadata": {
    "collapsed": false
   },
   "outputs": [
    {
     "name": "stdout",
     "output_type": "stream",
     "text": [
      "Average Passage Length: 421.67736282392747\n"
     ]
    }
   ],
   "source": [
    "print('Average Passage Length:', sum([len(t['passages'][i]) for t in train for i in range(len(t['passages']))]) / sum([len(t['passages']) for t in train]))"
   ]
  },
  {
   "cell_type": "code",
   "execution_count": 8,
   "metadata": {
    "collapsed": false
   },
   "outputs": [
    {
     "name": "stdout",
     "output_type": "stream",
     "text": [
      "Average Number of Selected Passages per Sample: 1.0752739110366105\n"
     ]
    }
   ],
   "source": [
    "print('Average Number of Selected Passages per Sample:', sum([sum(t['selected']) for t in train]) / len(train))"
   ]
  },
  {
   "cell_type": "code",
   "execution_count": 9,
   "metadata": {
    "collapsed": false
   },
   "outputs": [
    {
     "name": "stdout",
     "output_type": "stream",
     "text": [
      "Average Query Length: 33.9625756140223\n"
     ]
    }
   ],
   "source": [
    "print('Average Query Length:', sum([len(t['query']) for t in train]) / len(train))  "
   ]
  },
  {
   "cell_type": "code",
   "execution_count": 43,
   "metadata": {
    "collapsed": false
   },
   "outputs": [
    {
     "name": "stdout",
     "output_type": "stream",
     "text": [
      "Number of Yes/No Answers: 5872\n",
      "Percentage of Yes/No Answers: 0.07132619099676894\n",
      "First Words of Yes/No Queries: {'combustion', 'originally', 'circulatory', 'disease', 'best', 'as', 'did', 'species', 'price', 'seinfeld', 'construction', 'dose', 'nasonex', 'why', 'bad', 'lantana', 'i', 'cholesterol', 'common', 'female', 'cellular', 'retinal', 'usda', 'laura', 'eczema', 'good', 'pulmonary', 'eye', 'thyroid', 'calcium', '14th', 'vitamins', 'railroads', 'michael', 'lichen', 'google', 'pay', 'lg', 'anaerobic', 'argentina', 'will', 'dissolved', 'lowest', 'fresno', 'cholera', 'malaria', 'making', 'gastritis', 'blood', 'were', 'how', 'spirulina', 'first', 'found', 'over', 'temperature', 'when', 'alan', 'antidiuretic', 'can', 'age', 'would', 'foods', 'ebay', 'any', 'webmd', 'what', 'oral', 'here', 'contract', 'mark', 'powershell', 'pink', 'is', 'has', 'urinary', 'bipolar', 'mail', 'balanced', 'sedimentary', 'greek', 'polio', 'hives', 'human', 'florida', 'allah', 'marfan', 'chipotle', 'prunes', 'should', 'offshore', 'drinking', 'motor', 'pain', 'mala', 'are', 'hcg', 'the', 'associate', 'transferring', 'olfactory', 'water', 'licorice', 'enzyme', 'hemophilia', 'glaucoma', 'hemoglobin', 'genetic', 'things', 'gs', 'gatorade', 'a', 'sociologists', 'highway', 'fitbit', 'fiber', 'brat', 'each', 'tramadol', 'okazaki', 'seaweeds', 'brain', 'muscle', 'noun', 'psoriasis', 'shingles', 'javascript', 'president', 'safe', 'nephron', 'legal', 'amazon', 'garlic', 'clogged', 'chicken', 'skype', 'where', 'anemia', 'tax', 'asking', 'you', 'reddit', 'glucose', 'molecules', 'an', 'mid', 'diabetes', 'irish', 'gene', \"crohn's\", 'r', 'addison', 'fico', 'company', 'building', 'core', 'signs', 'leprosy', 'bacteria', 'moving', 'in', 'get', 'leeches', 'ferns', 'do', 'does', 'lupus', 'whey', 'education', 'sea', 'drugs', 'pms', 'baby', 'triglycerides', 'serena', 'aj', 'aer', 'hip', 'flagyl', 'bacteriophages', 'dna', 'getting', 'spiritual', 'dichlorophenolindophenol', 'weakness', 'dog', 'meningitis', 'police', 'inflammation', 'gravity', 'duck', 'delta', 'canary', 'forcing', 'which', 'testing', 'scurvy', 'if', 'typhoid', 'cafeteria', 'degenerative', 'stretching', 'most', 'role', 'tetanus', 'gametes', 'protists', 'almonds', 'lilac', 'okay', 'was', 'marijuana', 'lipids', 'viral', 'us', 'influenza', 'long', 'antioxidant', 'carbon', 'talcum', 'spine', 'obama', 'fdr', 'delayed', 'juris', 'life', 'oxygen', 'mushrooms', 'flexion', 'ali', 'taq', 'taxi', 'ear', 'genetically', 'hepatitis', 'loan', 'could', 'league', 'prince', 'to', 'gas', 'green', 'liver'}\n"
     ]
    }
   ],
   "source": [
    "print('Number of Yes/No Answers:', sum([1 for t in train if t['answer'] == 'yes' or t['answer'] == 'no']))\n",
    "print('Percentage of Yes/No Answers:', sum([1 for t in train if t['answer'] == 'yes' or t['answer'] == 'no']) / len(train))\n",
    "print('First Words of Yes/No Queries:', set([t['query'][:t['query'].index(' ')] for t in train if t['answer'] == 'yes' or t['answer'] == 'no']))"
   ]
  },
  {
   "cell_type": "code",
   "execution_count": 14,
   "metadata": {
    "collapsed": false
   },
   "outputs": [
    {
     "name": "stdout",
     "output_type": "stream",
     "text": [
      "Percentage of Answers Verbatim in Selected Passage: 0.6025192527269635\n"
     ]
    }
   ],
   "source": [
    "print('Percentage of Answers Verbatim in Selected Passage:', sum([1 for t in train if t['answer'] in t['passages'][np.argmax(t['selected'])]]) / len(train))"
   ]
  },
  {
   "cell_type": "code",
   "execution_count": 36,
   "metadata": {
    "collapsed": false
   },
   "outputs": [
    {
     "name": "stdout",
     "output_type": "stream",
     "text": [
      "Percentage of Description Answers Verbatim in Selected Passage: 0.540890994417384\n",
      "Percentage of Numeric Answers Verbatim in Selected Passage: 0.7016433781527375\n",
      "Percentage of Entity Answers Verbatim in Selected Passage: 0.6048774768437097\n",
      "Percentage of Location Answers Verbatim in Selected Passage: 0.680898321816387\n",
      "Percentage of Person Answers Verbatim in Selected Passage: 0.6900296150049359\n",
      "Percentage of None-Description Answers Verbatim in Selected Passage: 0.6766760337213971\n"
     ]
    }
   ],
   "source": [
    "print('Percentage of Description Answers Verbatim in Selected Passage:', sum([1 for t in train if (t['answer'] in t['passages'][np.argmax(t['selected'])] and t['query_type'] == 'description')]) / sum([1 for t in train if t['query_type'] == 'description']))\n",
    "print('Percentage of Numeric Answers Verbatim in Selected Passage:', sum([1 for t in train if t['answer'] in t['passages'][np.argmax(t['selected'])] and t['query_type'] == 'numeric']) / sum([1 for t in train if t['query_type'] == 'numeric']))\n",
    "print('Percentage of Entity Answers Verbatim in Selected Passage:', sum([1 for t in train if t['answer'] in t['passages'][np.argmax(t['selected'])] and t['query_type'] == 'entity']) / sum([1 for t in train if t['query_type'] == 'entity']))\n",
    "print('Percentage of Location Answers Verbatim in Selected Passage:', sum([1 for t in train if t['answer'] in t['passages'][np.argmax(t['selected'])] and t['query_type'] == 'location']) / sum([1 for t in train if t['query_type'] == 'location']))\n",
    "print('Percentage of Person Answers Verbatim in Selected Passage:', sum([1 for t in train if t['answer'] in t['passages'][np.argmax(t['selected'])] and t['query_type'] == 'person']) / sum([1 for t in train if t['query_type'] == 'person']))\n",
    "print('Percentage of Non-Description Answers Verbatim in Selected Passage:', sum([1 for t in train if t['answer'] in t['passages'][np.argmax(t['selected'])] and t['query_type'] != 'description']) / sum([1 for t in train if t['query_type'] != 'description']))"
   ]
  },
  {
   "cell_type": "markdown",
   "metadata": {},
   "source": [
    "## Query Types"
   ]
  },
  {
   "cell_type": "code",
   "execution_count": 37,
   "metadata": {
    "collapsed": false
   },
   "outputs": [
    {
     "data": {
      "image/png": "[encoded data removed]",
      "text/plain": [
       "<matplotlib.figure.Figure at 0x1851ef57940>"
      ]
     },
     "metadata": {},
     "output_type": "display_data"
    }
   ],
   "source": [
    "# Pie chart, where the slices will be ordered and plotted counter-clockwise:\n",
    "labels = 'description', 'numeric', 'entity', 'location', 'person'\n",
    "sizes = [0, 0, 0, 0, 0]\n",
    "for t in train:\n",
    "    sizes[labels.index(t['query_type'])] += 1\n",
    "    \n",
    "fig1, ax1 = plt.subplots()\n",
    "ax1.pie(sizes, labels=labels, autopct='%1.1f%%', shadow=True, startangle=90)\n",
    "ax1.axis('equal')  # Equal aspect ratio ensures that pie is drawn as a circle.\n",
    "\n",
    "plt.show()"
   ]
  },
  {
   "cell_type": "code",
   "execution_count": null,
   "metadata": {
    "collapsed": true
   },
   "outputs": [],
   "source": []
  }
 ],
 "metadata": {
  "anaconda-cloud": {},
  "kernelspec": {
   "display_name": "Python [default]",
   "language": "python",
   "name": "python3"
  },
  "language_info": {
   "codemirror_mode": {
    "name": "ipython",
    "version": 3
   },
   "file_extension": ".py",
   "mimetype": "text/x-python",
   "name": "python",
   "nbconvert_exporter": "python",
   "pygments_lexer": "ipython3",
   "version": "3.5.2"
  }
 },
 "nbformat": 4,
 "nbformat_minor": 1
}
